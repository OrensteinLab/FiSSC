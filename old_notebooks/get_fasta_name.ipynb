{
 "cells": [
  {
   "cell_type": "code",
   "execution_count": 1,
   "metadata": {},
   "outputs": [],
   "source": [
    "import os\n",
    "import numpy as np\n",
    "import pandas as pd\n",
    "import gzip\n",
    "from Bio import SeqIO\n"
   ]
  },
  {
   "cell_type": "code",
   "execution_count": 4,
   "metadata": {},
   "outputs": [
    {
     "name": "stdout",
     "output_type": "stream",
     "text": [
      "GRIA-CNS-RESUB.C0x1291.aligned.sorted.MinRQ998.reads.degenerate.fa.gz -> GRIA2, 71433 reads\n",
      "PCLO-CNS-RESUB.C0x1291.aligned.sorted.MinRQ998.reads.degenerate.fa.gz -> PCLO, 66275 reads\n",
      "reads.sorted.aligned.filtered.comp126362_c0_seq1.reads.degenerate.fa.gz -> ABL_DROME, 526030 reads\n",
      "reads.sorted.aligned.filtered.comp136058_c0_seq1.reads.degenerate.fa.gz -> TWK7_CAEEL, 751071 reads\n",
      "reads.sorted.aligned.filtered.comp140439_c0_seq1.reads.degenerate.fa.gz -> CA2D3_MOUSE, 1093306 reads\n",
      "reads.sorted.aligned.filtered.comp140712_c0_seq3.reads.degenerate.fa.gz -> RIMS2_RAT, 988891 reads\n",
      "reads.sorted.aligned.filtered.comp140910_c2_seq1.reads.degenerate.fa.gz -> ANR17_HUMAN, 452474 reads\n",
      "reads.sorted.aligned.filtered.comp140987_c3_seq1.reads.degenerate.fa.gz -> ACHA4_MOUSE, 728280 reads\n",
      "reads.sorted.aligned.filtered.comp141044_c0_seq2.reads.degenerate.fa.gz -> TRIM2_BOVIN, 214608 reads\n",
      "reads.sorted.aligned.filtered.comp141158_c1_seq2.reads.degenerate.fa.gz -> CACB2_RABIT, 799189 reads\n",
      "reads.sorted.aligned.filtered.comp141378_c0_seq7.reads.degenerate.fa.gz -> SCN1_HETBL, 363171 reads\n",
      "reads.sorted.aligned.filtered.comp141517_c0_seq1.reads.degenerate.fa.gz -> DGLA_HUMAN, 331878 reads\n",
      "reads.sorted.aligned.filtered.comp141532_c3_seq11.reads.degenerate.fa.gz -> MTUS2_HUMAN, 726183 reads\n",
      "reads.sorted.aligned.filtered.comp141565_c6_seq3.reads.degenerate.fa.gz -> IQEC1_HUMAN, 599981 reads\n",
      "reads.sorted.aligned.filtered.comp141574_c0_seq3.reads.degenerate.fa.gz -> ROBO2_HUMAN, 1455078 reads\n",
      "reads.sorted.aligned.filtered.comp141640_c0_seq1.reads.degenerate.fa.gz -> KCNAS_DROME, 594543 reads\n",
      "reads.sorted.aligned.filtered.comp141684_c0_seq1.reads.degenerate.fa.gz -> CSKI1_MOUSE, 957020 reads\n",
      "reads.sorted.aligned.filtered.comp141840_c0_seq2.reads.degenerate.fa.gz -> K0513_MOUSE, 882144 reads\n",
      "reads.sorted.aligned.filtered.comp141880_c1_seq3.reads.degenerate.fa.gz -> DOP1_HUMAN, 576064 reads\n",
      "reads.sorted.aligned.filtered.comp141881_c0_seq3.reads.degenerate.fa.gz -> RUSC2_MOUSE, 923687 reads\n",
      "reads.sorted.aligned.filtered.comp141882_c0_seq14.reads.degenerate.fa.gz -> PCLO_CHICK, 912637 reads\n"
     ]
    }
   ],
   "source": [
    "for data_type in ['long_reads', 'short_reads']: \n",
    "    files = os.listdir('data/'+data_type)\n",
    "    files = [file for file in files if file.endswith('.fa.gz')]\n",
    "\n",
    "    for file in files:\n",
    "        path = 'data/'+data_type+'/'+file\n",
    "        # read the sipped fasta file\n",
    "        with gzip.open(path, \"rt\") as handle:\n",
    "           experiment_name = handle.readline().split()[-1]\n",
    "           number_of_reads = len(list(SeqIO.parse(handle, \"fasta\")))\n",
    "           print(f'{file} -> {experiment_name}, {number_of_reads} reads')\n",
    "        \n"
   ]
  },
  {
   "cell_type": "code",
   "execution_count": 3,
   "metadata": {},
   "outputs": [
    {
     "name": "stdout",
     "output_type": "stream",
     "text": [
      "126362 -> ABL_DROME\n",
      "136058 -> TWK7_CAEEL\n",
      "140439 -> CA2D3_MOUSE\n",
      "140712 -> RIMS2_RAT\n",
      "140910 -> ANR17_HUMAN\n",
      "140987 -> ACHA4_MOUSE\n",
      "141044 -> TRIM2_BOVIN\n",
      "141158 -> CACB2_RABIT\n",
      "141378 -> SCN1_HETBL\n",
      "141517 -> DGLA_HUMAN\n",
      "141532 -> MTUS2_HUMAN\n",
      "141565 -> IQEC1_HUMAN\n",
      "141574 -> ROBO2_HUMAN\n",
      "141640 -> KCNAS_DROME\n",
      "141684 -> CSKI1_MOUSE\n",
      "141840 -> K0513_MOUSE\n",
      "141880 -> DOP1_HUMAN\n",
      "141881 -> RUSC2_MOUSE\n",
      "141882 -> PCLO_CHICK\n"
     ]
    }
   ],
   "source": [
    "for data_type in ['short_reads']: \n",
    "    files = os.listdir('data/'+data_type)\n",
    "    files = [file for file in files if file.endswith('.fa.gz')]\n",
    "\n",
    "    for file in files:\n",
    "        file_id = file.split('comp')[1].split('_')[0]\n",
    "        path = 'data/'+data_type+'/'+file\n",
    "        # read the sipped fasta file\n",
    "        with gzip.open(path, \"rt\") as handle:\n",
    "           experiment_name = handle.readline().split()[-1]\n",
    "           print(f'{file_id} -> {experiment_name}')\n",
    "        "
   ]
  },
  {
   "cell_type": "code",
   "execution_count": null,
   "metadata": {},
   "outputs": [],
   "source": []
  }
 ],
 "metadata": {
  "kernelspec": {
   "display_name": "Python 3",
   "language": "python",
   "name": "python3"
  },
  "language_info": {
   "codemirror_mode": {
    "name": "ipython",
    "version": 3
   },
   "file_extension": ".py",
   "mimetype": "text/x-python",
   "name": "python",
   "nbconvert_exporter": "python",
   "pygments_lexer": "ipython3",
   "version": "3.11.4"
  }
 },
 "nbformat": 4,
 "nbformat_minor": 2
}
