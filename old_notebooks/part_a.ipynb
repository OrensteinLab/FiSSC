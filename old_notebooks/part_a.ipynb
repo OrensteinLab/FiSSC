{
 "cells": [
  {
   "cell_type": "code",
   "execution_count": 1,
   "metadata": {},
   "outputs": [],
   "source": [
    "import os\n",
    "import numpy as np\n",
    "import pandas as pd\n",
    "import concurrent.futures\n",
    "from scripts.sequence_stuff import *\n",
    "from scripts.plots import *\n",
    "from scripts.collector import *\n"
   ]
  },
  {
   "cell_type": "code",
   "execution_count": 2,
   "metadata": {},
   "outputs": [
    {
     "name": "stdout",
     "output_type": "stream",
     "text": [
      "Picked sequences: 0\n",
      "Working sequences: 52953\n",
      "Removed sequences: 0.0%\n",
      "Removed X: 0.0%\n"
     ]
    }
   ],
   "source": [
    "specific_file = 'data/long_reads/GRIA-CNS-RESUB.C0x1291.aligned.sorted.MinRQ998.reads.degenerate.csv'\n",
    "sequences = pd.read_csv(specific_file)['Sequence'].values\n",
    "collector = SequenceCollector(sequences)\n",
    "collector.print_sizes()"
   ]
  },
  {
   "cell_type": "code",
   "execution_count": 3,
   "metadata": {},
   "outputs": [
    {
     "name": "stdout",
     "output_type": "stream",
     "text": [
      "Finding uncovered sequences\n",
      "Checking sequence 0/52953, 0 covered, 0 uncovered\n",
      "Checking sequence 100/52953, 9 covered, 91 uncovered\n",
      "Checking sequence 200/52953, 16 covered, 184 uncovered\n",
      "Checking sequence 300/52953, 25 covered, 275 uncovered\n",
      "Checking sequence 400/52953, 35 covered, 365 uncovered\n",
      "Checking sequence 500/52953, 43 covered, 457 uncovered\n",
      "Checking sequence 600/52953, 52 covered, 548 uncovered\n",
      "Checking sequence 700/52953, 60 covered, 640 uncovered\n",
      "Checking sequence 800/52953, 65 covered, 735 uncovered\n",
      "Checking sequence 900/52953, 73 covered, 827 uncovered\n",
      "Checking sequence 1000/52953, 83 covered, 917 uncovered\n",
      "Checking sequence 1100/52953, 90 covered, 1010 uncovered\n",
      "Checking sequence 1200/52953, 104 covered, 1096 uncovered\n",
      "Checking sequence 1300/52953, 114 covered, 1186 uncovered\n",
      "Checking sequence 1400/52953, 123 covered, 1277 uncovered\n",
      "Checking sequence 1500/52953, 131 covered, 1369 uncovered\n",
      "Checking sequence 1600/52953, 136 covered, 1464 uncovered\n",
      "Checking sequence 1700/52953, 137 covered, 1563 uncovered\n",
      "Checking sequence 1800/52953, 142 covered, 1658 uncovered\n",
      "Checking sequence 1900/52953, 149 covered, 1751 uncovered\n",
      "Checking sequence 2000/52953, 158 covered, 1842 uncovered\n",
      "Checking sequence 2100/52953, 161 covered, 1939 uncovered\n",
      "Checking sequence 2200/52953, 173 covered, 2027 uncovered\n",
      "Checking sequence 2300/52953, 181 covered, 2119 uncovered\n",
      "Checking sequence 2400/52953, 191 covered, 2209 uncovered\n",
      "Checking sequence 2500/52953, 199 covered, 2301 uncovered\n",
      "Checking sequence 2600/52953, 204 covered, 2396 uncovered\n",
      "Checking sequence 2700/52953, 212 covered, 2488 uncovered\n",
      "Checking sequence 2800/52953, 219 covered, 2581 uncovered\n",
      "Checking sequence 2900/52953, 223 covered, 2677 uncovered\n",
      "Checking sequence 3000/52953, 233 covered, 2767 uncovered\n",
      "Checking sequence 3100/52953, 240 covered, 2860 uncovered\n",
      "Checking sequence 3200/52953, 255 covered, 2945 uncovered\n",
      "Checking sequence 3300/52953, 262 covered, 3038 uncovered\n",
      "Checking sequence 3400/52953, 264 covered, 3136 uncovered\n",
      "Checking sequence 3500/52953, 273 covered, 3227 uncovered\n",
      "Checking sequence 3600/52953, 281 covered, 3319 uncovered\n",
      "Checking sequence 3700/52953, 292 covered, 3408 uncovered\n",
      "Checking sequence 3800/52953, 293 covered, 3507 uncovered\n",
      "Checking sequence 3900/52953, 303 covered, 3597 uncovered\n",
      "Checking sequence 4000/52953, 309 covered, 3691 uncovered\n",
      "Checking sequence 4100/52953, 318 covered, 3782 uncovered\n",
      "Checking sequence 4200/52953, 331 covered, 3869 uncovered\n",
      "Checking sequence 4300/52953, 335 covered, 3965 uncovered\n",
      "Checking sequence 4400/52953, 342 covered, 4058 uncovered\n",
      "Checking sequence 4500/52953, 351 covered, 4149 uncovered\n",
      "Checking sequence 4600/52953, 360 covered, 4240 uncovered\n",
      "Checking sequence 4700/52953, 366 covered, 4334 uncovered\n",
      "Checking sequence 4800/52953, 373 covered, 4427 uncovered\n",
      "Checking sequence 4900/52953, 382 covered, 4518 uncovered\n",
      "Checking sequence 5000/52953, 391 covered, 4609 uncovered\n",
      "Checking sequence 5100/52953, 398 covered, 4702 uncovered\n",
      "Checking sequence 5200/52953, 404 covered, 4796 uncovered\n",
      "Checking sequence 5300/52953, 416 covered, 4884 uncovered\n",
      "Checking sequence 5400/52953, 421 covered, 4979 uncovered\n",
      "Checking sequence 5500/52953, 430 covered, 5070 uncovered\n",
      "Checking sequence 5600/52953, 439 covered, 5161 uncovered\n",
      "Checking sequence 5700/52953, 448 covered, 5252 uncovered\n",
      "Checking sequence 5800/52953, 456 covered, 5344 uncovered\n",
      "Checking sequence 5900/52953, 465 covered, 5435 uncovered\n",
      "Checking sequence 6000/52953, 467 covered, 5533 uncovered\n",
      "Checking sequence 6100/52953, 469 covered, 5631 uncovered\n",
      "Checking sequence 6200/52953, 474 covered, 5726 uncovered\n",
      "Checking sequence 6300/52953, 484 covered, 5816 uncovered\n",
      "Checking sequence 6400/52953, 489 covered, 5911 uncovered\n",
      "Checking sequence 6500/52953, 497 covered, 6003 uncovered\n",
      "Checking sequence 6600/52953, 506 covered, 6094 uncovered\n",
      "Checking sequence 6700/52953, 523 covered, 6177 uncovered\n",
      "Checking sequence 6800/52953, 534 covered, 6266 uncovered\n",
      "Checking sequence 6900/52953, 544 covered, 6356 uncovered\n",
      "Checking sequence 7000/52953, 555 covered, 6445 uncovered\n",
      "Checking sequence 7100/52953, 562 covered, 6538 uncovered\n",
      "Checking sequence 7200/52953, 573 covered, 6627 uncovered\n",
      "Checking sequence 7300/52953, 575 covered, 6725 uncovered\n",
      "Checking sequence 7400/52953, 587 covered, 6813 uncovered\n",
      "Checking sequence 7500/52953, 598 covered, 6902 uncovered\n",
      "Checking sequence 7600/52953, 608 covered, 6992 uncovered\n",
      "Checking sequence 7700/52953, 619 covered, 7081 uncovered\n",
      "Checking sequence 7800/52953, 627 covered, 7173 uncovered\n",
      "Checking sequence 7900/52953, 638 covered, 7262 uncovered\n",
      "Checking sequence 8000/52953, 648 covered, 7352 uncovered\n",
      "Checking sequence 8100/52953, 653 covered, 7447 uncovered\n",
      "Checking sequence 8200/52953, 663 covered, 7537 uncovered\n",
      "Checking sequence 8300/52953, 669 covered, 7631 uncovered\n",
      "Checking sequence 8400/52953, 676 covered, 7724 uncovered\n",
      "Checking sequence 8500/52953, 687 covered, 7813 uncovered\n",
      "Checking sequence 8600/52953, 696 covered, 7904 uncovered\n",
      "Checking sequence 8700/52953, 702 covered, 7998 uncovered\n",
      "Checking sequence 8800/52953, 712 covered, 8088 uncovered\n",
      "Checking sequence 8900/52953, 719 covered, 8181 uncovered\n",
      "Checking sequence 9000/52953, 724 covered, 8276 uncovered\n",
      "Checking sequence 9100/52953, 731 covered, 8369 uncovered\n",
      "Checking sequence 9200/52953, 741 covered, 8459 uncovered\n",
      "Checking sequence 9300/52953, 747 covered, 8553 uncovered\n",
      "Checking sequence 9400/52953, 752 covered, 8648 uncovered\n",
      "Checking sequence 9500/52953, 760 covered, 8740 uncovered\n",
      "Checking sequence 9600/52953, 765 covered, 8835 uncovered\n"
     ]
    },
    {
     "ename": "",
     "evalue": "",
     "output_type": "error",
     "traceback": [
      "\u001b[1;31mThe Kernel crashed while executing code in the current cell or a previous cell. \n",
      "\u001b[1;31mPlease review the code in the cell(s) to identify a possible cause of the failure. \n",
      "\u001b[1;31mClick <a href='https://aka.ms/vscodeJupyterKernelCrash'>here</a> for more info. \n",
      "\u001b[1;31mView Jupyter <a href='command:jupyter.viewOutput'>log</a> for further details."
     ]
    }
   ],
   "source": [
    "collector.update()\n",
    "collector.print_sizes()"
   ]
  },
  {
   "cell_type": "code",
   "execution_count": null,
   "metadata": {},
   "outputs": [
    {
     "name": "stdout",
     "output_type": "stream",
     "text": [
      "Picked sequences: 84\n",
      "Working sequences: 33275\n",
      "Removed sequences: 37.16%\n",
      "Removed X: 40.65%\n"
     ]
    }
   ],
   "source": [
    "more_specific_sequences, less_specific_sequences = get_more_specific_sequences(collector.get_working_sequences())\n",
    "collector.set_working_sequences(more_specific_sequences)\n",
    "collector.print_sizes()\n"
   ]
  },
  {
   "cell_type": "code",
   "execution_count": null,
   "metadata": {},
   "outputs": [
    {
     "name": "stdout",
     "output_type": "stream",
     "text": [
      "Picked sequences: 2126\n",
      "Working sequences: 31233\n",
      "Removed sequences: 41.02%\n",
      "Removed X: 43.97%\n"
     ]
    }
   ],
   "source": [
    "clashing_sequences, non_clashing_sequences = get_clashing_non_clashing(collector.get_working_sequences())\n",
    "collector.set_working_sequences(non_clashing_sequences)\n",
    "collector.collect_picked_sequences(clashing_sequences)\n",
    "collector.print_sizes()\n"
   ]
  },
  {
   "cell_type": "code",
   "execution_count": null,
   "metadata": {},
   "outputs": [],
   "source": [
    "# save as pickled object\n",
    "output_file = specific_file.replace('.csv', '_part_1_collector.pkl')\n",
    "collector.save(output_file)\n"
   ]
  }
 ],
 "metadata": {
  "kernelspec": {
   "display_name": "Python 3",
   "language": "python",
   "name": "python3"
  },
  "language_info": {
   "codemirror_mode": {
    "name": "ipython",
    "version": 3
   },
   "file_extension": ".py",
   "mimetype": "text/x-python",
   "name": "python",
   "nbconvert_exporter": "python",
   "pygments_lexer": "ipython3",
   "version": "3.11.4"
  }
 },
 "nbformat": 4,
 "nbformat_minor": 2
}
