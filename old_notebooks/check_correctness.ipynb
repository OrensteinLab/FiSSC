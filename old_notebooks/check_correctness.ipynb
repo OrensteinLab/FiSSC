{
 "cells": [
  {
   "cell_type": "code",
   "execution_count": 1,
   "metadata": {},
   "outputs": [],
   "source": [
    "import pandas as pd\n",
    "from scripts.sequence_stuff import *\n",
    "from scripts.plots import *\n",
    "from scripts.collector import *\n",
    "from scripts.filtering import *"
   ]
  },
  {
   "cell_type": "code",
   "execution_count": 2,
   "metadata": {},
   "outputs": [],
   "source": [
    "specific_file = 'data/long_reads/GRIA-CNS-RESUB.C0x1291.aligned.sorted.MinRQ998.reads.degenerate.csv'\n",
    "specific_file = 'data/short_reads/Greads.sorted.aligned.filtered.comp140439_c0_seq1.reads.degenerate.csv'\n",
    "\n",
    "\n",
    "working_file = specific_file.replace('.csv', '.filtered_working.csv')\n",
    "picked_file = specific_file.replace('.csv', '.filtered_picked.csv')\n",
    "\n",
    "sequences = pd.read_csv(specific_file)['Sequence'].values\n",
    "sequences_working = pd.read_csv(working_file)['Sequence'].values\n",
    "sequences_picked = pd.read_csv(picked_file)['Sequence'].values"
   ]
  },
  {
   "cell_type": "markdown",
   "metadata": {},
   "source": [
    "check picked and working cover all sequences"
   ]
  },
  {
   "cell_type": "code",
   "execution_count": 3,
   "metadata": {},
   "outputs": [],
   "source": [
    "combined = sequences_working.tolist() + sequences_picked.tolist()\n",
    "collector = SequenceCollector(sequences)\n",
    "collector.collect_picked_sequences(combined)\n",
    "collector.update()"
   ]
  },
  {
   "cell_type": "code",
   "execution_count": 4,
   "metadata": {},
   "outputs": [
    {
     "name": "stdout",
     "output_type": "stream",
     "text": [
      "0\n"
     ]
    }
   ],
   "source": [
    "print(len(collector.get_working_sequences()))"
   ]
  }
 ],
 "metadata": {
  "kernelspec": {
   "display_name": "Python 3",
   "language": "python",
   "name": "python3"
  },
  "language_info": {
   "codemirror_mode": {
    "name": "ipython",
    "version": 3
   },
   "file_extension": ".py",
   "mimetype": "text/x-python",
   "name": "python",
   "nbconvert_exporter": "python",
   "pygments_lexer": "ipython3",
   "version": "3.11.4"
  }
 },
 "nbformat": 4,
 "nbformat_minor": 2
}
